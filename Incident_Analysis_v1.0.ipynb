{
 "cells": [
  {
   "cell_type": "code",
   "execution_count": 261,
   "id": "2300a1e9-cfa8-46b9-8e47-f5e734b2ef2e",
   "metadata": {
    "ExecuteTime": {
     "end_time": "2024-09-13T03:49:55.447130Z",
     "start_time": "2024-09-13T03:49:55.340439Z"
    }
   },
   "outputs": [],
   "source": [
    "# Import packages\n",
    "import pandas as pd\n",
    "import seaborn as sns\n",
    "import plotly.express as px\n",
    "%matplotlib inline\n",
    "import matplotlib.pyplot as plt\n",
    "\n",
    "from dash import Dash, html, dash_table, dcc\n",
    "from jupyter_dash import JupyterDash\n",
    "from dash.dependencies import Input, Output\n",
    "\n",
    "sns.set_theme(style=\"darkgrid\")\n",
    "\n",
    "pd.set_option('display.max_rows', None)\n",
    "pd.set_option('display.max_columns', None)\n",
    "pd.set_option('display.max_info_columns', 200)\n",
    "pd.set_option('display.max_colwidth', None)\n",
    "\n",
    "# Suppress SettingWithCopyWarning\n",
    "pd.options.mode.chained_assignment = None\n",
    "\n",
    "# Initialize the app\n",
    "app = Dash()"
   ]
  },
  {
   "cell_type": "markdown",
   "id": "75967656-caf0-408b-80df-87c9a2bd105d",
   "metadata": {},
   "source": [
    "## Read in CSV File"
   ]
  },
  {
   "cell_type": "code",
   "execution_count": 262,
   "id": "e86f9daf-0afa-49a3-b390-8c2665ceedf4",
   "metadata": {
    "ExecuteTime": {
     "end_time": "2024-09-13T03:50:10.446760Z",
     "start_time": "2024-09-13T03:50:08.769912Z"
    }
   },
   "outputs": [
    {
     "data": {
      "text/plain": [
       "(76251, 94)"
      ]
     },
     "execution_count": 262,
     "metadata": {},
     "output_type": "execute_result"
    }
   ],
   "source": [
    "file_path = '/Users/alihushyar/Documents/Development/Python/NaaS/incidents_2024-08-31_L90.csv'\n",
    "df_inc = pd.read_csv(file_path, low_memory=False, index_col=0)\n",
    "\n",
    "# Get number of rows and columns in dataset\n",
    "df_inc.shape"
   ]
  },
  {
   "cell_type": "code",
   "execution_count": 263,
   "id": "aee50c61-9c0d-48b8-8e4a-4407ad22f9a8",
   "metadata": {
    "ExecuteTime": {
     "end_time": "2024-09-13T03:50:27.587299Z",
     "start_time": "2024-09-13T03:50:27.302271Z"
    }
   },
   "outputs": [],
   "source": [
    "#df_inc.info()"
   ]
  },
  {
   "cell_type": "markdown",
   "id": "9e51d0e7-a998-4e68-8609-d332ed566c54",
   "metadata": {},
   "source": [
    "## Clean data"
   ]
  },
  {
   "cell_type": "code",
   "execution_count": 264,
   "id": "74aaa2d3-51f6-4021-b678-e83186bf1e26",
   "metadata": {
    "ExecuteTime": {
     "end_time": "2024-09-13T03:47:17.986674Z",
     "start_time": "2024-09-13T03:47:17.772025Z"
    }
   },
   "outputs": [
    {
     "data": {
      "text/plain": [
       "(76251, 84)"
      ]
     },
     "execution_count": 264,
     "metadata": {},
     "output_type": "execute_result"
    }
   ],
   "source": [
    "# Drop any column that is completely empty\n",
    "df_inc.dropna(axis=1, how='all', inplace=True)\n",
    "df_inc.shape"
   ]
  },
  {
   "cell_type": "code",
   "execution_count": 265,
   "id": "5257cba9-be21-4c13-a32e-5eb74d422f9b",
   "metadata": {},
   "outputs": [],
   "source": [
    "cols = ['number',  'priority', 'state',  'incCreatedAt', 'case_number__pk', 'case_state', 'resolved_at', 'alert_id', 'alert_last_occurred_at', 'ai_category', 'ai_sub_category', 'issue_type', 'sub_issue_type', 'shortDescription', 'ticketClassification', 'device_name', 'configurationItem', 'assetSerialNum', 'account_id', 'account_name', 'sub_site_id', 'sub_site_name', 'incCreatedBy', 'assignmentGroup', 'resolved_by']\n",
    "cols1 = ['number',  'priority', 'state',  'alert_last_occurred_at', 'incCreatedAt', 'resolved_at', 'alert_id', 'case_number__pk', 'case_state', 'ai_category', 'ai_sub_category', 'issue_type', 'sub_issue_type', 'device_name', 'account_id', 'incCreatedBy']\n",
    "df_incf = df_inc[cols1]\n",
    "#df_incf.head()"
   ]
  },
  {
   "cell_type": "code",
   "execution_count": 266,
   "id": "64db32ad-8e1a-432d-be01-376855a7a9d9",
   "metadata": {},
   "outputs": [],
   "source": [
    "# Rename priority column values\n",
    "df_incf.loc[df_incf['priority'] == '1 - Critical', 'priority'] = 'P1'\n",
    "df_incf.loc[df_incf['priority'] == '2 - High', 'priority'] = 'P2'\n",
    "df_incf.loc[df_incf['priority'] == '3 - Moderate', 'priority'] = 'P3'\n",
    "df_incf.loc[df_incf['priority'] == '4 - Low', 'priority'] = 'P4'"
   ]
  },
  {
   "cell_type": "code",
   "execution_count": 267,
   "id": "b678a5c1-8169-473b-bea8-25a33b1b6d74",
   "metadata": {},
   "outputs": [],
   "source": [
    "# Replace values\n",
    "df_incf['ai_category'] = df_incf['ai_category'].fillna('NOTASSIGNED')\n",
    "df_incf['ai_sub_category'] = df_incf['ai_sub_category'].fillna('NOTASSIGNED')"
   ]
  },
  {
   "cell_type": "code",
   "execution_count": 268,
   "id": "fe677fc8-8d8d-4192-8c56-9191657432a7",
   "metadata": {},
   "outputs": [
    {
     "name": "stdout",
     "output_type": "stream",
     "text": [
      "# Records after filter on 'ticket state' is 75612\n"
     ]
    }
   ],
   "source": [
    "# Filter out New and In Progress tickets from state column\n",
    "ticket_state = ['New', 'In Progress']\n",
    "df_incf = df_incf.query('state not in @ticket_state').reset_index(drop=True)\n",
    "print(f'# Records after filter on \\'ticket state\\' is {df_incf.shape[0]}')"
   ]
  },
  {
   "cell_type": "code",
   "execution_count": 269,
   "id": "1c910210-b3bc-486f-a862-8b0775a6cc41",
   "metadata": {},
   "outputs": [],
   "source": [
    "df_incf = df_incf[df_incf['incCreatedBy'] == 'serviceinsights']\n"
   ]
  },
  {
   "cell_type": "code",
   "execution_count": 270,
   "id": "2eff59d8-8f68-4a3f-b878-7394bc87bffb",
   "metadata": {},
   "outputs": [
    {
     "name": "stdout",
     "output_type": "stream",
     "text": [
      "<class 'pandas.core.frame.DataFrame'>\n",
      "Index: 75442 entries, 0 to 75611\n",
      "Data columns (total 16 columns):\n",
      " #   Column                  Non-Null Count  Dtype \n",
      "---  ------                  --------------  ----- \n",
      " 0   number                  75442 non-null  object\n",
      " 1   priority                75442 non-null  object\n",
      " 2   state                   75442 non-null  object\n",
      " 3   alert_last_occurred_at  46783 non-null  object\n",
      " 4   incCreatedAt            75442 non-null  object\n",
      " 5   resolved_at             44795 non-null  object\n",
      " 6   alert_id                67806 non-null  object\n",
      " 7   case_number__pk         21089 non-null  object\n",
      " 8   case_state              21089 non-null  object\n",
      " 9   ai_category             75442 non-null  object\n",
      " 10  ai_sub_category         75442 non-null  object\n",
      " 11  issue_type              52991 non-null  object\n",
      " 12  sub_issue_type          35190 non-null  object\n",
      " 13  device_name             47198 non-null  object\n",
      " 14  account_id              75442 non-null  object\n",
      " 15  incCreatedBy            75442 non-null  object\n",
      "dtypes: object(16)\n",
      "memory usage: 9.8+ MB\n"
     ]
    }
   ],
   "source": [
    "df_incf.info()"
   ]
  },
  {
   "cell_type": "code",
   "execution_count": 271,
   "id": "7b48121b-576c-499f-89a5-caa4f503cd6a",
   "metadata": {},
   "outputs": [],
   "source": [
    "#df_incf.head()"
   ]
  },
  {
   "cell_type": "code",
   "execution_count": 287,
   "id": "c02ab0a6-e11e-41f6-9405-186330b685b1",
   "metadata": {},
   "outputs": [],
   "source": [
    "#df_incf['ai_category'].value_counts().reset_index()"
   ]
  },
  {
   "cell_type": "code",
   "execution_count": 273,
   "id": "6ae79bcf-b611-42d6-8756-a869766868b5",
   "metadata": {},
   "outputs": [],
   "source": [
    "#df_incf['issue_type'].value_counts().reset_index()"
   ]
  },
  {
   "cell_type": "code",
   "execution_count": 274,
   "id": "08e525b3-7791-43c3-b0c0-e781bf58e862",
   "metadata": {},
   "outputs": [],
   "source": [
    "#df_incf['device_name'].value_counts().reset_index()"
   ]
  },
  {
   "cell_type": "code",
   "execution_count": 275,
   "id": "132ee876-1213-430e-8398-1261a2689abf",
   "metadata": {},
   "outputs": [],
   "source": [
    "#df_incf['account_id'].value_counts().reset_index()"
   ]
  },
  {
   "cell_type": "code",
   "execution_count": 276,
   "id": "4eef81a9-02c0-4d98-96fa-502170748bf5",
   "metadata": {},
   "outputs": [],
   "source": [
    "#df_incf['incCreatedBy'].value_counts().reset_index()"
   ]
  },
  {
   "cell_type": "code",
   "execution_count": 277,
   "id": "b2619404-3d72-426f-87c4-34b6aa2ed5d0",
   "metadata": {},
   "outputs": [],
   "source": [
    "df_incf.drop(columns=['incCreatedBy'], inplace=True)"
   ]
  },
  {
   "cell_type": "code",
   "execution_count": 278,
   "id": "0047cc7b-5096-408f-8f9c-3a9ab4476669",
   "metadata": {},
   "outputs": [],
   "source": [
    "#df_incf.head()"
   ]
  },
  {
   "cell_type": "code",
   "execution_count": 279,
   "id": "2d121ce3-4056-4ebd-8c55-29b354795897",
   "metadata": {},
   "outputs": [
    {
     "data": {
      "text/html": [
       "<div>\n",
       "<style scoped>\n",
       "    .dataframe tbody tr th:only-of-type {\n",
       "        vertical-align: middle;\n",
       "    }\n",
       "\n",
       "    .dataframe tbody tr th {\n",
       "        vertical-align: top;\n",
       "    }\n",
       "\n",
       "    .dataframe thead th {\n",
       "        text-align: right;\n",
       "    }\n",
       "</style>\n",
       "<table border=\"1\" class=\"dataframe\">\n",
       "  <thead>\n",
       "    <tr style=\"text-align: right;\">\n",
       "      <th></th>\n",
       "      <th>state</th>\n",
       "      <th>count</th>\n",
       "    </tr>\n",
       "  </thead>\n",
       "  <tbody>\n",
       "    <tr>\n",
       "      <th>0</th>\n",
       "      <td>Resolved</td>\n",
       "      <td>43924</td>\n",
       "    </tr>\n",
       "    <tr>\n",
       "      <th>1</th>\n",
       "      <td>Cancelled</td>\n",
       "      <td>21261</td>\n",
       "    </tr>\n",
       "    <tr>\n",
       "      <th>2</th>\n",
       "      <td>On Hold</td>\n",
       "      <td>9386</td>\n",
       "    </tr>\n",
       "    <tr>\n",
       "      <th>3</th>\n",
       "      <td>Closed</td>\n",
       "      <td>871</td>\n",
       "    </tr>\n",
       "  </tbody>\n",
       "</table>\n",
       "</div>"
      ],
      "text/plain": [
       "       state  count\n",
       "0   Resolved  43924\n",
       "1  Cancelled  21261\n",
       "2    On Hold   9386\n",
       "3     Closed    871"
      ]
     },
     "execution_count": 279,
     "metadata": {},
     "output_type": "execute_result"
    }
   ],
   "source": [
    "df_incf['state'].value_counts().reset_index()"
   ]
  },
  {
   "cell_type": "code",
   "execution_count": 280,
   "id": "6b5610f4-7992-4d24-bb7b-93040d5c772c",
   "metadata": {},
   "outputs": [],
   "source": [
    "cols2 = ['number',  'priority', 'ai_category', 'issue_type', 'device_name', 'account_id', 'state']\n",
    "df_class = df_inc[cols2]\n",
    "#df_class.head()"
   ]
  },
  {
   "cell_type": "code",
   "execution_count": 281,
   "id": "38550b6b-81e0-43b9-8df0-a1de7c01b503",
   "metadata": {},
   "outputs": [],
   "source": [
    "df_class.set_index('number', inplace=True)\n",
    "#df_class.head()"
   ]
  },
  {
   "cell_type": "code",
   "execution_count": 282,
   "id": "0f420ea6-2345-4ca2-95aa-ff2ddd70d742",
   "metadata": {},
   "outputs": [
    {
     "name": "stdout",
     "output_type": "stream",
     "text": [
      "<class 'pandas.core.frame.DataFrame'>\n",
      "Index: 76251 entries, INC1024863 to INC0032354\n",
      "Data columns (total 6 columns):\n",
      " #   Column       Non-Null Count  Dtype \n",
      "---  ------       --------------  ----- \n",
      " 0   priority     76251 non-null  object\n",
      " 1   ai_category  72816 non-null  object\n",
      " 2   issue_type   53295 non-null  object\n",
      " 3   device_name  47725 non-null  object\n",
      " 4   account_id   76251 non-null  object\n",
      " 5   state        76251 non-null  object\n",
      "dtypes: object(6)\n",
      "memory usage: 4.1+ MB\n"
     ]
    }
   ],
   "source": [
    "df_class.info()"
   ]
  },
  {
   "cell_type": "code",
   "execution_count": 283,
   "id": "e291516d-343a-4624-9c27-b20557b3fb39",
   "metadata": {},
   "outputs": [
    {
     "name": "stdout",
     "output_type": "stream",
     "text": [
      "<class 'pandas.core.frame.DataFrame'>\n",
      "Index: 76251 entries, INC1024863 to INC0032354\n",
      "Data columns (total 6 columns):\n",
      " #   Column       Non-Null Count  Dtype \n",
      "---  ------       --------------  ----- \n",
      " 0   priority     76251 non-null  object\n",
      " 1   ai_category  76251 non-null  object\n",
      " 2   issue_type   76251 non-null  object\n",
      " 3   device_name  76251 non-null  object\n",
      " 4   account_id   76251 non-null  object\n",
      " 5   state        76251 non-null  object\n",
      "dtypes: object(6)\n",
      "memory usage: 4.1+ MB\n"
     ]
    },
    {
     "name": "stderr",
     "output_type": "stream",
     "text": [
      "/var/folders/zt/kskz268j3t50tx7nm9922t900000gp/T/ipykernel_67457/3583340105.py:1: FutureWarning:\n",
      "\n",
      "A value is trying to be set on a copy of a DataFrame or Series through chained assignment using an inplace method.\n",
      "The behavior will change in pandas 3.0. This inplace method will never work because the intermediate object on which we are setting values always behaves as a copy.\n",
      "\n",
      "For example, when doing 'df[col].method(value, inplace=True)', try using 'df.method({col: value}, inplace=True)' or df[col] = df[col].method(value) instead, to perform the operation inplace on the original object.\n",
      "\n",
      "\n",
      "\n",
      "/var/folders/zt/kskz268j3t50tx7nm9922t900000gp/T/ipykernel_67457/3583340105.py:2: FutureWarning:\n",
      "\n",
      "A value is trying to be set on a copy of a DataFrame or Series through chained assignment using an inplace method.\n",
      "The behavior will change in pandas 3.0. This inplace method will never work because the intermediate object on which we are setting values always behaves as a copy.\n",
      "\n",
      "For example, when doing 'df[col].method(value, inplace=True)', try using 'df.method({col: value}, inplace=True)' or df[col] = df[col].method(value) instead, to perform the operation inplace on the original object.\n",
      "\n",
      "\n",
      "\n",
      "/var/folders/zt/kskz268j3t50tx7nm9922t900000gp/T/ipykernel_67457/3583340105.py:3: FutureWarning:\n",
      "\n",
      "A value is trying to be set on a copy of a DataFrame or Series through chained assignment using an inplace method.\n",
      "The behavior will change in pandas 3.0. This inplace method will never work because the intermediate object on which we are setting values always behaves as a copy.\n",
      "\n",
      "For example, when doing 'df[col].method(value, inplace=True)', try using 'df.method({col: value}, inplace=True)' or df[col] = df[col].method(value) instead, to perform the operation inplace on the original object.\n",
      "\n",
      "\n",
      "\n"
     ]
    }
   ],
   "source": [
    "df_class['device_name'].fillna('unknown', inplace=True)\n",
    "df_class['issue_type'].fillna('Other', inplace=True)\n",
    "df_class['ai_category'].fillna('NOTASSIGNED', inplace=True)\n",
    "\n",
    "df_class.info()"
   ]
  },
  {
   "cell_type": "code",
   "execution_count": 290,
   "id": "249882ed-244a-4968-af53-b2d03b580256",
   "metadata": {},
   "outputs": [],
   "source": [
    "df_class['account_id'] = pd.factorize(df_class['account_id'])[0]\n",
    "df_class.reset_index(drop=True, inplace=True)\n"
   ]
  },
  {
   "cell_type": "code",
   "execution_count": 291,
   "id": "b86aa797-40ef-4fb2-881d-1687d0fc9e1b",
   "metadata": {},
   "outputs": [
    {
     "data": {
      "text/html": [
       "<div>\n",
       "<style scoped>\n",
       "    .dataframe tbody tr th:only-of-type {\n",
       "        vertical-align: middle;\n",
       "    }\n",
       "\n",
       "    .dataframe tbody tr th {\n",
       "        vertical-align: top;\n",
       "    }\n",
       "\n",
       "    .dataframe thead th {\n",
       "        text-align: right;\n",
       "    }\n",
       "</style>\n",
       "<table border=\"1\" class=\"dataframe\">\n",
       "  <thead>\n",
       "    <tr style=\"text-align: right;\">\n",
       "      <th></th>\n",
       "      <th>priority</th>\n",
       "      <th>ai_category</th>\n",
       "      <th>issue_type</th>\n",
       "      <th>device_name</th>\n",
       "      <th>account_id</th>\n",
       "      <th>state</th>\n",
       "    </tr>\n",
       "  </thead>\n",
       "  <tbody>\n",
       "    <tr>\n",
       "      <th>0</th>\n",
       "      <td>2 - High</td>\n",
       "      <td>Security</td>\n",
       "      <td>Other</td>\n",
       "      <td>switch</td>\n",
       "      <td>0</td>\n",
       "      <td>New</td>\n",
       "    </tr>\n",
       "    <tr>\n",
       "      <th>1</th>\n",
       "      <td>2 - High</td>\n",
       "      <td>Security</td>\n",
       "      <td>Other</td>\n",
       "      <td>switch</td>\n",
       "      <td>1</td>\n",
       "      <td>New</td>\n",
       "    </tr>\n",
       "    <tr>\n",
       "      <th>2</th>\n",
       "      <td>1 - Critical</td>\n",
       "      <td>Switch</td>\n",
       "      <td>Wired Connectivity</td>\n",
       "      <td>switch</td>\n",
       "      <td>1</td>\n",
       "      <td>On Hold</td>\n",
       "    </tr>\n",
       "    <tr>\n",
       "      <th>3</th>\n",
       "      <td>3 - Moderate</td>\n",
       "      <td>IAP</td>\n",
       "      <td>Other</td>\n",
       "      <td>iap</td>\n",
       "      <td>2</td>\n",
       "      <td>New</td>\n",
       "    </tr>\n",
       "    <tr>\n",
       "      <th>4</th>\n",
       "      <td>2 - High</td>\n",
       "      <td>Security</td>\n",
       "      <td>Management</td>\n",
       "      <td>switch</td>\n",
       "      <td>1</td>\n",
       "      <td>On Hold</td>\n",
       "    </tr>\n",
       "  </tbody>\n",
       "</table>\n",
       "</div>"
      ],
      "text/plain": [
       "       priority ai_category          issue_type device_name  account_id  \\\n",
       "0      2 - High    Security               Other      switch           0   \n",
       "1      2 - High    Security               Other      switch           1   \n",
       "2  1 - Critical      Switch  Wired Connectivity      switch           1   \n",
       "3  3 - Moderate         IAP               Other         iap           2   \n",
       "4      2 - High    Security          Management      switch           1   \n",
       "\n",
       "     state  \n",
       "0      New  \n",
       "1      New  \n",
       "2  On Hold  \n",
       "3      New  \n",
       "4  On Hold  "
      ]
     },
     "execution_count": 291,
     "metadata": {},
     "output_type": "execute_result"
    }
   ],
   "source": [
    "df_class.head()"
   ]
  },
  {
   "cell_type": "code",
   "execution_count": 292,
   "id": "8b90165d-3cbb-43d7-ad46-17fcd2e3aae7",
   "metadata": {},
   "outputs": [
    {
     "data": {
      "text/html": [
       "<div>\n",
       "<style scoped>\n",
       "    .dataframe tbody tr th:only-of-type {\n",
       "        vertical-align: middle;\n",
       "    }\n",
       "\n",
       "    .dataframe tbody tr th {\n",
       "        vertical-align: top;\n",
       "    }\n",
       "\n",
       "    .dataframe thead th {\n",
       "        text-align: right;\n",
       "    }\n",
       "</style>\n",
       "<table border=\"1\" class=\"dataframe\">\n",
       "  <thead>\n",
       "    <tr style=\"text-align: right;\">\n",
       "      <th></th>\n",
       "      <th>state</th>\n",
       "      <th>count</th>\n",
       "    </tr>\n",
       "  </thead>\n",
       "  <tbody>\n",
       "    <tr>\n",
       "      <th>0</th>\n",
       "      <td>Resolved</td>\n",
       "      <td>44061</td>\n",
       "    </tr>\n",
       "    <tr>\n",
       "      <th>1</th>\n",
       "      <td>Cancelled</td>\n",
       "      <td>21272</td>\n",
       "    </tr>\n",
       "    <tr>\n",
       "      <th>2</th>\n",
       "      <td>On Hold</td>\n",
       "      <td>9400</td>\n",
       "    </tr>\n",
       "    <tr>\n",
       "      <th>3</th>\n",
       "      <td>Closed</td>\n",
       "      <td>879</td>\n",
       "    </tr>\n",
       "    <tr>\n",
       "      <th>4</th>\n",
       "      <td>New</td>\n",
       "      <td>382</td>\n",
       "    </tr>\n",
       "    <tr>\n",
       "      <th>5</th>\n",
       "      <td>In Progress</td>\n",
       "      <td>257</td>\n",
       "    </tr>\n",
       "  </tbody>\n",
       "</table>\n",
       "</div>"
      ],
      "text/plain": [
       "         state  count\n",
       "0     Resolved  44061\n",
       "1    Cancelled  21272\n",
       "2      On Hold   9400\n",
       "3       Closed    879\n",
       "4          New    382\n",
       "5  In Progress    257"
      ]
     },
     "execution_count": 292,
     "metadata": {},
     "output_type": "execute_result"
    }
   ],
   "source": [
    "df_class['state'].value_counts().reset_index()"
   ]
  },
  {
   "cell_type": "markdown",
   "id": "06fbe3d9-cf82-4a55-902d-fe8c939ab2e0",
   "metadata": {},
   "source": [
    "Baseline multi-class logistic regression on state"
   ]
  },
  {
   "cell_type": "code",
   "execution_count": 293,
   "id": "eeb2eee7-0493-42fb-80d5-2b93967b7414",
   "metadata": {},
   "outputs": [
    {
     "name": "stderr",
     "output_type": "stream",
     "text": [
      "/opt/anaconda3/envs/berkeley/lib/python3.12/site-packages/sklearn/linear_model/_logistic.py:1247: FutureWarning:\n",
      "\n",
      "'multi_class' was deprecated in version 1.5 and will be removed in 1.7. From then on, it will always use 'multinomial'. Leave it to its default value to avoid this warning.\n",
      "\n"
     ]
    },
    {
     "name": "stdout",
     "output_type": "stream",
     "text": [
      "Accuracy: 0.9025\n"
     ]
    }
   ],
   "source": [
    "import pandas as pd\n",
    "from sklearn.model_selection import train_test_split\n",
    "from sklearn.preprocessing import OneHotEncoder, LabelEncoder\n",
    "from sklearn.linear_model import LogisticRegression\n",
    "from sklearn.metrics import accuracy_score\n",
    "\n",
    "# Assume df_class is your DataFrame\n",
    "df = df_class.copy()\n",
    "\n",
    "# One-hot encode categorical features (excluding target column 'state')\n",
    "categorical_features = ['priority', 'ai_category', 'issue_type', 'device_name', 'account_id']\n",
    "df_encoded = pd.get_dummies(df, columns=categorical_features, drop_first=True)\n",
    "\n",
    "# Encode the target variable\n",
    "label_encoder = LabelEncoder()\n",
    "df_encoded['state'] = label_encoder.fit_transform(df['state'])\n",
    "\n",
    "# Split into features (X) and target (y)\n",
    "X = df_encoded.drop(columns=['state'])\n",
    "y = df_encoded['state']\n",
    "\n",
    "# Split into train and test sets\n",
    "X_train, X_test, y_train, y_test = train_test_split(X, y, test_size=0.2, random_state=42)\n",
    "\n",
    "# Train Logistic Regression\n",
    "model = LogisticRegression(multi_class='multinomial', solver='lbfgs', max_iter=500)\n",
    "model.fit(X_train, y_train)\n",
    "\n",
    "# Make predictions\n",
    "y_pred = model.predict(X_test)\n",
    "\n",
    "# Evaluate accuracy\n",
    "accuracy = accuracy_score(y_test, y_pred)\n",
    "print(f\"Accuracy: {accuracy:.4f}\")\n"
   ]
  },
  {
   "cell_type": "code",
   "execution_count": null,
   "id": "fce9be82-257a-44de-bf2a-4bed317ef505",
   "metadata": {},
   "outputs": [],
   "source": []
  }
 ],
 "metadata": {
  "kernelspec": {
   "display_name": "Berkeley",
   "language": "python",
   "name": "berkeley"
  },
  "language_info": {
   "codemirror_mode": {
    "name": "ipython",
    "version": 3
   },
   "file_extension": ".py",
   "mimetype": "text/x-python",
   "name": "python",
   "nbconvert_exporter": "python",
   "pygments_lexer": "ipython3",
   "version": "3.12.2"
  }
 },
 "nbformat": 4,
 "nbformat_minor": 5
}
